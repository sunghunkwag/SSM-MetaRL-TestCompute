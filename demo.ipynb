{
 "cells": [
  {
   "cell_type": "markdown",
   "metadata": {},
   "source": [
    "# SSM-MetaRL-TestCompute Demo\n",
    "\n",
    "[![Open In Colab](https://colab.research.google.com/assets/colab-badge.svg)](https://colab.research.google.com/github/sunghunkwag/SSM-MetaRL-TestCompute/blob/main/demo.ipynb)\n",
    "\n",
    "This notebook demonstrates the **SSM-MetaRL-TestCompute** framework, which combines:\n",
    "- **State Space Models (SSM)** for efficient sequence modeling\n",
    "- **Meta-Learning (MAML)** for fast adaptation\n",
    "- **Test-Time Adaptation** for continual learning\n",
    "\n",
    "## Features\n",
    "- ✅ Meta-training with MetaMAML\n",
    "- ✅ Test-time adaptation with gradient updates\n",
    "- ✅ Gymnasium environment integration\n",
    "- ✅ CPU-optimized for low-compute scenarios"
   ]
  },
  {
   "cell_type": "markdown",
   "metadata": {},
   "source": [
    "## 1. Installation\n",
    "\n",
    "Install required dependencies:"
   ]
  },
  {
   "cell_type": "code",
   "execution_count": null,
   "metadata": {},
   "outputs": [],
   "source": [
    "# Install dependencies\n",
    "!pip install torch numpy gymnasium\n",
    "\n",
    "# Clone the repository if not already cloned\n",
    "import os\n",
    "if not os.path.exists('SSM-MetaRL-TestCompute'):\n",
    "    !git clone https://github.com/sunghunkwag/SSM-MetaRL-TestCompute.git\n",
    "    os.chdir('SSM-MetaRL-TestCompute')\n",
    "else:\n",
    "    os.chdir('SSM-MetaRL-TestCompute')\n",
    "\n",
    "print(\"✓ Installation complete!\")"
   ]
  },
  {
   "cell_type": "markdown",
   "metadata": {},
   "source": [
    "## 2. Import Libraries"
   ]
  },
  {
   "cell_type": "code",
   "execution_count": null,
   "metadata": {},
   "outputs": [],
   "source": [
    "import torch\n",
    "import torch.nn as nn\n",
    "import numpy as np\n",
    "import gymnasium as gym\n",
    "from collections import OrderedDict\n",
    "\n",
    "# Import SSM-MetaRL components\n",
    "from core.ssm import StateSpaceModel\n",
    "from meta_rl.meta_maml import MetaMAML\n",
    "from adaptation.test_time_adaptation import Adapter, AdaptationConfig\n",
    "from env_runner.environment import Environment\n",
    "\n",
    "print(\"✓ Libraries imported successfully!\")\n",
    "print(f\"PyTorch version: {torch.__version__}\")\n",
    "print(f\"Device: {'cuda' if torch.cuda.is_available() else 'cpu'}\")"
   ]
  },
  {
   "cell_type": "markdown",
   "metadata": {},
   "source": [
    "## 3. Configuration\n",
    "\n",
    "Set up hyperparameters for the experiment:"
   ]
  },
  {
   "cell_type": "code",
   "execution_count": null,
   "metadata": {},
   "outputs": [],
   "source": [
    "# Configuration\n",
    "class Config:\n",
    "    # Environment\n",
    "    env_name = 'CartPole-v1'\n",
    "    batch_size = 1\n",
    "    \n",
    "    # Model architecture\n",
    "    state_dim = 32\n",
    "    hidden_dim = 64\n",
    "    \n",
    "    # Meta-training\n",
    "    num_epochs = 10  # Reduced for demo\n",
    "    episodes_per_task = 3\n",
    "    inner_lr = 0.01\n",
    "    outer_lr = 0.001\n",
    "    \n",
    "    # Test-time adaptation\n",
    "    adapt_lr = 0.01\n",
    "    num_adapt_steps = 20  # Reduced for demo\n",
    "\n",
    "config = Config()\n",
    "device = torch.device('cuda' if torch.cuda.is_available() else 'cpu')\n",
    "\n",
    "print(\"Configuration:\")\n",
    "print(f\"  Environment: {config.env_name}\")\n",
    "print(f\"  Device: {device}\")\n",
    "print(f\"  State dim: {config.state_dim}\")\n",
    "print(f\"  Hidden dim: {config.hidden_dim}\")\n",
    "print(f\"  Meta-training epochs: {config.num_epochs}\")"
   ]
  },
  {
   "cell_type": "markdown",
   "metadata": {},
   "source": [
    "## 4. Initialize Environment and Model"
   ]
  },
  {
   "cell_type": "code",
   "execution_count": null,
   "metadata": {},
   "outputs": [],
   "source": [
    "# Initialize environment\n",
    "env = Environment(env_name=config.env_name, batch_size=config.batch_size)\n",
    "obs_space = env.observation_space\n",
    "action_space = env.action_space\n",
    "\n",
    "input_dim = obs_space.shape[0] if isinstance(obs_space, gym.spaces.Box) else obs_space.n\n",
    "output_dim = input_dim  # Predicting next observation\n",
    "\n",
    "print(f\"Environment initialized:\")\n",
    "print(f\"  Observation space: {obs_space}\")\n",
    "print(f\"  Action space: {action_space}\")\n",
    "print(f\"  Input/Output dim: {input_dim}/{output_dim}\")\n",
    "\n",
    "# Initialize State Space Model\n",
    "model = StateSpaceModel(\n",
    "    state_dim=config.state_dim,\n",
    "    input_dim=input_dim,\n",
    "    output_dim=output_dim,\n",
    "    hidden_dim=config.hidden_dim\n",
    ").to(device)\n",
    "\n",
    "print(f\"\\n✓ Model initialized with {sum(p.numel() for p in model.parameters())} parameters\")"
   ]
  },
  {
   "cell_type": "markdown",
   "metadata": {},
   "source": [
    "## 5. Data Collection Function"
   ]
  },
  {
   "cell_type": "code",
   "execution_count": null,
   "metadata": {},
   "outputs": [],
   "source": [
    "def collect_data(env, policy_model, num_episodes=3, max_steps_per_episode=50, device='cpu'):\n",
    "    \"\"\"\n",
    "    Collects trajectory data from the environment.\n",
    "    \"\"\"\n",
    "    all_obs, all_actions, all_rewards, all_next_obs, all_dones = [], [], [], [], []\n",
    "    policy_model.eval()\n",
    "    \n",
    "    obs = env.reset()\n",
    "    hidden_state = policy_model.init_hidden(batch_size=env.batch_size)\n",
    "    \n",
    "    for ep in range(num_episodes):\n",
    "        steps_in_ep = 0\n",
    "        done = False\n",
    "        \n",
    "        while not done and steps_in_ep < max_steps_per_episode:\n",
    "            obs_tensor = torch.tensor(obs, dtype=torch.float32).unsqueeze(0).to(device)\n",
    "            \n",
    "            with torch.no_grad():\n",
    "                action_logits, next_hidden_state = policy_model(obs_tensor, hidden_state)\n",
    "                \n",
    "                if isinstance(env.action_space, gym.spaces.Discrete):\n",
    "                    n_actions = env.action_space.n\n",
    "                    probs = torch.softmax(action_logits[:, :n_actions], dim=-1)\n",
    "                    action = torch.multinomial(probs, 1).item()\n",
    "                else:\n",
    "                    action = action_logits.cpu().numpy().flatten()\n",
    "            \n",
    "            next_obs, reward, terminated, truncated, info = env.step(action)\n",
    "            done = terminated or truncated\n",
    "            \n",
    "            all_obs.append(obs)\n",
    "            all_actions.append(action)\n",
    "            all_rewards.append(reward)\n",
    "            all_next_obs.append(next_obs)\n",
    "            all_dones.append(done)\n",
    "            \n",
    "            obs = next_obs\n",
    "            hidden_state = next_hidden_state\n",
    "            steps_in_ep += 1\n",
    "        \n",
    "        if done:\n",
    "            obs = env.reset()\n",
    "            hidden_state = policy_model.init_hidden(batch_size=env.batch_size)\n",
    "    \n",
    "    return {\n",
    "        'observations': np.array(all_obs),\n",
    "        'actions': np.array(all_actions),\n",
    "        'rewards': np.array(all_rewards),\n",
    "        'next_observations': np.array(all_next_obs),\n",
    "        'dones': np.array(all_dones)\n",
    "    }\n",
    "\n",
    "print(\"✓ Data collection function defined\")"
   ]
  },
  {
   "cell_type": "markdown",
   "metadata": {},
   "source": [
    "## 6. Meta-Training with MetaMAML\n",
    "\n",
    "Train the model using Model-Agnostic Meta-Learning (MAML):"
   ]
  },
  {
   "cell_type": "code",
   "execution_count": null,
   "metadata": {},
   "outputs": [],
   "source": [
    "# Initialize MetaMAML\n",
    "meta_maml = MetaMAML(\n",
    "    model=model,\n",
    "    inner_lr=config.inner_lr,\n",
    "    outer_lr=config.outer_lr\n",
    ")\n",
    "\n",
    "print(\"Starting meta-training...\\n\")\n",
    "\n",
    "for epoch in range(config.num_epochs):\n",
    "    # Collect data for this meta-task\n",
    "    task_data = collect_data(\n",
    "        env, \n",
    "        model, \n",
    "        num_episodes=config.episodes_per_task,\n",
    "        max_steps_per_episode=50,\n",
    "        device=device\n",
    "    )\n",
    "    \n",
    "    # Prepare tensors\n",
    "    obs_tensor = torch.tensor(task_data['observations'], dtype=torch.float32).to(device)\n",
    "    next_obs_tensor = torch.tensor(task_data['next_observations'], dtype=torch.float32).to(device)\n",
    "    \n",
    "    # Meta-update\n",
    "    meta_loss = meta_maml.meta_update(\n",
    "        support_data=(obs_tensor, next_obs_tensor),\n",
    "        query_data=(obs_tensor, next_obs_tensor),\n",
    "        num_inner_steps=5\n",
    "    )\n",
    "    \n",
    "    if (epoch + 1) % 2 == 0:\n",
    "        print(f\"Epoch {epoch+1}/{config.num_epochs} - Meta Loss: {meta_loss:.4f}\")\n",
    "\n",
    "print(\"\\n✓ Meta-training completed!\")"
   ]
  },
  {
   "cell_type": "markdown",
   "metadata": {},
   "source": [
    "## 7. Test-Time Adaptation\n",
    "\n",
    "Demonstrate adaptation to a new task:"
   ]
  },
  {
   "cell_type": "code",
   "execution_count": null,
   "metadata": {},
   "outputs": [],
   "source": [
    "# Save meta-learned parameters\n",
    "meta_learned_params = OrderedDict(\n",
    "    (name, param.clone().detach()) for name, param in model.named_parameters()\n",
    ")\n",
    "\n",
    "# Initialize adapter\n",
    "adapt_config = AdaptationConfig(\n",
    "    learning_rate=config.adapt_lr,\n",
    "    num_steps=config.num_adapt_steps,\n",
    "    loss_fn=nn.MSELoss()\n",
    ")\n",
    "\n",
    "adapter = Adapter(model=model, config=adapt_config)\n",
    "\n",
    "print(\"Starting test-time adaptation...\\n\")\n",
    "\n",
    "# Collect test data\n",
    "test_data = collect_data(\n",
    "    env,\n",
    "    model,\n",
    "    num_episodes=2,\n",
    "    max_steps_per_episode=30,\n",
    "    device=device\n",
    ")\n",
    "\n",
    "obs_test = torch.tensor(test_data['observations'], dtype=torch.float32).to(device)\n",
    "next_obs_test = torch.tensor(test_data['next_observations'], dtype=torch.float32).to(device)\n",
    "\n",
    "# Perform adaptation\n",
    "adaptation_losses = adapter.adapt(\n",
    "    observations=obs_test,\n",
    "    targets=next_obs_test\n",
    ")\n",
    "\n",
    "print(f\"\\nAdaptation complete!\")\n",
    "print(f\"  Initial loss: {adaptation_losses[0]:.4f}\")\n",
    "print(f\"  Final loss: {adaptation_losses[-1]:.4f}\")\n",
    "print(f\"  Improvement: {adaptation_losses[0] - adaptation_losses[-1]:.4f}\")"
   ]
  },
  {
   "cell_type": "markdown",
   "metadata": {},
   "source": [
    "## 8. Visualize Adaptation Progress"
   ]
  },
  {
   "cell_type": "code",
   "execution_count": null,
   "metadata": {},
   "outputs": [],
   "source": [
    "import matplotlib.pyplot as plt\n",
    "\n",
    "plt.figure(figsize=(10, 5))\n",
    "plt.plot(adaptation_losses, linewidth=2)\n",
    "plt.xlabel('Adaptation Step', fontsize=12)\n",
    "plt.ylabel('Loss (MSE)', fontsize=12)\n",
    "plt.title('Test-Time Adaptation Progress', fontsize=14, fontweight='bold')\n",
    "plt.grid(True, alpha=0.3)\n",
    "plt.tight_layout()\n",
    "plt.show()\n",
    "\n",
    "print(\"✓ Visualization complete!\")"
   ]
  },
  {
   "cell_type": "markdown",
   "metadata": {},
   "source": [
    "## 9. Evaluate Adapted Model"
   ]
  },
  {
   "cell_type": "code",
   "execution_count": null,
   "metadata": {},
   "outputs": [],
   "source": [
    "# Evaluate the adapted model\n",
    "model.eval()\n",
    "test_episodes = 5\n",
    "total_rewards = []\n",
    "\n",
    "for ep in range(test_episodes):\n",
    "    obs = env.reset()\n",
    "    hidden_state = model.init_hidden(batch_size=1)\n",
    "    episode_reward = 0\n",
    "    done = False\n",
    "    steps = 0\n",
    "    max_steps = 200\n",
    "    \n",
    "    while not done and steps < max_steps:\n",
    "        obs_tensor = torch.tensor(obs, dtype=torch.float32).unsqueeze(0).to(device)\n",
    "        \n",
    "        with torch.no_grad():\n",
    "            action_logits, hidden_state = model(obs_tensor, hidden_state)\n",
    "            \n",
    "            if isinstance(env.action_space, gym.spaces.Discrete):\n",
    "                n_actions = env.action_space.n\n",
    "                probs = torch.softmax(action_logits[:, :n_actions], dim=-1)\n",
    "                action = torch.multinomial(probs, 1).item()\n",
    "            else:\n",
    "                action = action_logits.cpu().numpy().flatten()\n",
    "        \n",
    "        obs, reward, terminated, truncated, _ = env.step(action)\n",
    "        done = terminated or truncated\n",
    "        episode_reward += reward\n",
    "        steps += 1\n",
    "    \n",
    "    total_rewards.append(episode_reward)\n",
    "    print(f\"Episode {ep+1}: Reward = {episode_reward:.2f}, Steps = {steps}\")\n",
    "\n",
    "print(f\"\\nAverage Reward: {np.mean(total_rewards):.2f} ± {np.std(total_rewards):.2f}\")\n",
    "print(\"✓ Evaluation complete!\")"
   ]
  },
  {
   "cell_type": "markdown",
   "metadata": {},
   "source": [
    "## 10. Summary\n",
    "\n",
    "This demo showcased:\n",
    "\n",
    "1. ✅ **Meta-Training**: Trained a State Space Model using MetaMAML\n",
    "2. ✅ **Test-Time Adaptation**: Adapted the model to new data with gradient updates\n",
    "3. ✅ **Evaluation**: Tested the adapted model on the environment\n",
    "\n",
    "### Key Takeaways\n",
    "\n",
    "- **SSM**: Efficient sequence modeling with linear complexity\n",
    "- **MetaMAML**: Fast adaptation from meta-learned initialization\n",
    "- **Adaptation**: Continual learning at test time\n",
    "\n",
    "### Next Steps\n",
    "\n",
    "- Try different environments (e.g., `'MountainCar-v0'`, `'Acrobot-v1'`)\n",
    "- Adjust hyperparameters for better performance\n",
    "- Extend to more complex tasks\n",
    "\n",
    "---\n",
    "\n",
    "**Repository**: [SSM-MetaRL-TestCompute](https://github.com/sunghunkwag/SSM-MetaRL-TestCompute)\n",
    "\n",
    "**License**: MIT"
   ]
  }
 ],
 "metadata": {
  "kernelspec": {
   "display_name": "Python 3",
   "language": "python",
   "name": "python3"
  },
  "language_info": {
   "codemirror_mode": {
    "name": "ipython",
    "version": 3
   },
   "file_extension": ".py",
   "mimetype": "text/x-python",
   "name": "python",
   "nbconvert_exporter": "python",
   "pygments_lexer": "ipython3",
   "version": "3.8.0"
  }
 },
 "nbformat": 4,
 "nbformat_minor": 4
}

